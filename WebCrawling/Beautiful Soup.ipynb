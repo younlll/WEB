{
 "cells": [
  {
   "cell_type": "markdown",
   "id": "7ee6f63b",
   "metadata": {},
   "source": [
    "# Beautiful Soup\n",
    "> * HTML 및 XML 파일에서 데이터를 가져오기 위한 Python 라이브러리\n",
    "> * parser를 통해서 구문 분석 트리를 탐색, 검색 및 수정하는 방법을 제공<br>\n",
    "> _(Beautiful Soup 4.9.0 documentation)_"
   ]
  },
  {
   "cell_type": "markdown",
   "id": "9319b88a",
   "metadata": {},
   "source": [
    "```python\n",
    "from bs4 import BeautifulSoup\n",
    "from urllib.request import urlopen\n",
    "with urloepn(\"index.html\") as fp:\n",
    "    soup = BeautifulSoup(fp, \"html.parser\")\n",
    "```\n",
    "* line1\n",
    "    * bs4라는 모듈에서 BeautifulSoup이라는 함수를 import하고 이것은 BeautifulSoup이라는 이름으로 사용한다\n",
    "* line2\n",
    "    * urllib.request는 URL을 가져오기 위한 Python 모듈이다\n",
    "    * urllib.request 모듈에서 urlopen 함수를 import하고 이를 urlopen이름으로 사용한다\n",
    "* line3\n",
    "    * \"index.html\"이라는 url을 가져와 fp변수에 넣어준다\n",
    "* line4\n",
    "    * BeautifulSoup은 최상의 parser를 이용해 html문서의 구문을 분석한다"
   ]
  },
  {
   "cell_type": "code",
   "execution_count": 37,
   "id": "bec576c5",
   "metadata": {},
   "outputs": [],
   "source": [
    "# NAVER 메인페이지 document 구문 분석\n",
    "from bs4 import BeautifulSoup\n",
    "from urllib.request import urlopen\n",
    "with urlopen('https://www.naver.com') as fp:\n",
    "    soup = BeautifulSoup(fp, 'html.parser')"
   ]
  },
  {
   "cell_type": "markdown",
   "id": "3b2146ed",
   "metadata": {},
   "source": [
    "```python\n",
    "soup.select('body a')\n",
    "```\n",
    "* select()를 사용해 html parser를 통해 분석한 document에서 매칭되는 element들을 모두 반환한다."
   ]
  },
  {
   "cell_type": "code",
   "execution_count": 38,
   "id": "76601609",
   "metadata": {},
   "outputs": [
    {
     "name": "stdout",
     "output_type": "stream",
     "text": [
      "<a href=\"#newsstand\"><span>뉴스스탠드 바로가기</span></a>\n",
      "<a href=\"#themecast\"><span>주제별캐스트 바로가기</span></a>\n",
      "<a href=\"#timesquare\"><span>타임스퀘어 바로가기</span></a>\n",
      "<a href=\"#shopcast\"><span>쇼핑캐스트 바로가기</span></a>\n",
      "<a href=\"#account\"><span>로그인 바로가기</span></a>\n",
      "<a class=\"_3h-N8T9V\" data-clk=\"dropbanner1a\" href=\"https://whale.naver.com/banner/details/darkmode?=main&amp;wpid=RydDy7\"></a>\n",
      "<a class=\"_2aeXMlrb\" data-clk=\"dropdownload1a\" href=\"https://installer-whale.pstatic.net/downloads/banner/RydDy7/WhaleSetup.exe\" id=\"NM_whale_download_btn\"><span style=\"background-color: #7c56d5\">다운로드</span></a>\n",
      "<a class=\"special_logo_link\" data-clk=\"top.spe\" href=\"https://search.naver.com/search.naver?where=nexearch&amp;sm=top_brd&amp;fbm=0&amp;ie=utf8&amp;query=%EC%BD%94%EB%A1%9C%EB%82%98+%EA%B1%B0%EB%A6%AC%EB%91%90%EA%B8%B0+%EB%8B%A8%EA%B3%84\" title=\"집콕모드\">\n",
      "<img alt=\"집콕모드\" class=\"special_img_fold\" height=\"60\" src=\"https://s.pstatic.net/static/www/mobile/edit/2021/0716/mobile_14503239540.png\" width=\"58\"/>\n",
      "</a>\n",
      "<a class=\"link_set\" data-clk=\"top.mkhome\" href=\"https://help.naver.com/support/welcomePage/guide.help\" id=\"NM_set_home_btn\">네이버를 시작페이지로</a>\n",
      "<a class=\"link_jrnaver\" data-clk=\"top.jrnaver\" href=\"https://jr.naver.com\"><i class=\"ico_jrnaver\"></i><span class=\"blind\">쥬니어네이버</span></a>\n"
     ]
    }
   ],
   "source": [
    "# body태그 하위에서 a태그로 되어있는 모든 내용을 반환\n",
    "# 너무 많은 정보가 출력되기에 10개만 출력해보도록 한다\n",
    "cnt = 0\n",
    "for ctnt in soup.select('body a'):\n",
    "    print(ctnt)\n",
    "    cnt = cnt+1\n",
    "    if cnt == 10:\n",
    "        break"
   ]
  },
  {
   "cell_type": "code",
   "execution_count": 36,
   "id": "37876c5f",
   "metadata": {},
   "outputs": [
    {
     "data": {
      "text/plain": [
       "[<strong class=\"title elss\">카페 7개 한다는 NRG 노유민, 실제 수입은</strong>,\n",
       " <strong class=\"title elss\">70세 할머니가 \"이 옷 입어봐\" 코디 해줬더니…</strong>,\n",
       " <strong class=\"title elss\">부사장 질문에 \"그러게요, 어떡하죠?\" 반문했더니…</strong>,\n",
       " <strong class=\"title elss\">전자제품 한달간 써보고 구매하라고 했더니...</strong>,\n",
       " <strong class=\"title elss\">보은 땅 비싼 값에 사들인 중국인들 정체가…'충격'</strong>,\n",
       " <strong class=\"title elss\">도지코인에 3억 3천 몰빵했던 래퍼, 지금은...</strong>,\n",
       " <strong class=\"title elss\">꽃 정기구독으로 연 매출 100억 대박 났죠</strong>,\n",
       " <strong class=\"title elss\">\"샤넬 쇼핑백 1만원에 팝니다\" 당근에서 거래되는 이유</strong>,\n",
       " <strong class=\"title elss\">“전 아버지의 얼굴을 한 번도 본 적이 없습니다”</strong>,\n",
       " <strong class=\"title elss\">코딩만 잘해도 카카오 문턱 절반은 넘은 겁니다</strong>,\n",
       " <strong class=\"title elss\">건당 수백만원…코로나로 뜬 '꿀알바' 뭐길래</strong>,\n",
       " <strong class=\"title elss\">비주얼 값만 6000원대라는 여름 커피 신상의 정체</strong>,\n",
       " <strong class=\"title elss\">마음 맞는 '온라인 동네친구' 소개했더니 매출이...</strong>,\n",
       " <strong class=\"title elss\">요즘 SNS서 화제라는 관람차뷰 포토존은 어딜까</strong>,\n",
       " <strong class=\"title elss\">'252% 경쟁률' 뚫고 들어간 LH직원 퇴직금 수준</strong>,\n",
       " <strong class=\"title elss\">MZ세대에 인기라는 과일카페 창업 현실은</strong>,\n",
       " <strong class=\"title elss\">한국에 10명뿐인 미술품 경매사 연봉 수준</strong>,\n",
       " <strong class=\"title elss\">코로나에 취준생도 빚더미.. \"평균 빚 규모 3287만원\"</strong>,\n",
       " <strong class=\"title elss\">2021 소방공무원 수당/봉급표 알아보자</strong>,\n",
       " <strong class=\"title elss\">국민취업제도, 참여 문턱 낮추고 일경험 기회 늘린다</strong>,\n",
       " <strong class=\"title elss\">말 못할 직장 고민...이렇게 해결했다</strong>,\n",
       " <strong class=\"title elss\">한국사능력시험 55회 접수일정&amp;준비물</strong>,\n",
       " <strong class=\"title elss\">맞벌이 원하는 이유 2위 '커리어 유지'…1위는?</strong>,\n",
       " <strong class=\"title elss\">올림픽 메달리스트들의 놀라운 실제 직업</strong>,\n",
       " <strong class=\"title elss\">게장 국물 함부로 버리면 생기는 끔찍한 일</strong>,\n",
       " <strong class=\"title elss\">얼마나 유명하면…드라마로도 만든 '장수 과자'</strong>,\n",
       " <strong class=\"title elss\">대기업 아나운서 그만두고 '월 3000' 벌어요</strong>,\n",
       " <strong class=\"title elss\">월 800만원 거뜬하다는 꽃길 자격증 TOP3</strong>,\n",
       " <strong class=\"title elss\">참치캔에 참치 대신 이것 담았더니 벌어진 일</strong>,\n",
       " <strong class=\"title elss\">연예인도 경악한 '반려견 유치원' 가격 수준</strong>,\n",
       " <strong class=\"title elss\">우주화장실 해결한 청년이 요즘 꽂힌 아이템</strong>,\n",
       " <strong class=\"title elss\">몸은 불편하지만…국정원 정보요원입니다</strong>,\n",
       " <strong class=\"title elss\">돌파감염\n",
       " 백신</strong>,\n",
       " <strong class=\"title elss\">사놓고 잊었는데…34만원이 15억 됐어요</strong>,\n",
       " <strong class=\"title elss\">27세에 로또 1등 당첨된 직장인, 3년 후 모습보니</strong>,\n",
       " <strong class=\"title elss\">월 300이상…50세 넘으면 이만한 직업 없습니다</strong>,\n",
       " <strong class=\"title elss\">무급휴직 대한항공 승무원 뭐하고 사나 봤더니...</strong>,\n",
       " <strong class=\"title elss\">업무 전화가 너무 무서워요…저만 그런가요?</strong>,\n",
       " <strong class=\"title elss\">한국은 연봉 300...인도가면 억대 연봉이라는 직업</strong>,\n",
       " <strong class=\"title elss\">집콕은 영어로 'STAY AT HOME'이 아니다?</strong>,\n",
       " <strong class=\"title elss\">요즘 뭐해?…취업 준비 '준비'하고 있어요</strong>,\n",
       " <strong class=\"title elss\">화학공식 이용해 만든 아이스크림으로 대박났죠</strong>,\n",
       " <strong class=\"title elss\">1억 2700만 원 받는 삼성전자가 3위, 대기업 평균 연봉 1위는?</strong>,\n",
       " <strong class=\"title elss\">월급 많이 줘도 '00' 부족하면 이직 못 막아요</strong>,\n",
       " <strong class=\"title elss\">서울대 출신 의사가 밝혀낸 탈모치료 비법은?</strong>,\n",
       " <strong class=\"title elss\">페이스북, 5년 내 메타버스 기업 변신? 새롭게 떠오르는 직업은</strong>,\n",
       " <strong class=\"title elss\">'스핀 아트' 미술공모전</strong>,\n",
       " <strong class=\"title elss\">헷갈리는 L, R 영어발음 확실하게 구분하기</strong>,\n",
       " <strong class=\"title elss\">면세점에서 사야 이득인 제품 5가지 알아보니</strong>,\n",
       " <strong class=\"title elss\">1년에 5000억원어치 판다는 쇼호스트, 연봉은?</strong>,\n",
       " <strong class=\"title elss\">맥주박·해조류·철강 찌꺼기 다 돈 됩니다</strong>,\n",
       " <strong class=\"title elss\">쉽게 돈 벌고 싶다면 탐정은 절대 하지 마세요</strong>,\n",
       " <strong class=\"title elss\">'세균 득실' 에어컨, 셀프 청소 가능하게 했더니</strong>,\n",
       " <strong class=\"title elss\">공무원 중 가장 별로? 환경미화원 연봉표 보니</strong>,\n",
       " <strong class=\"title elss\">외모·몸매 말고…실력으로 평가해 주세요</strong>,\n",
       " <strong class=\"title elss\">숏컷으로 면접보러 갔더니 사장이 \"00와는...\"</strong>,\n",
       " <strong class=\"title elss\">하정우·손흥민, 스타가 한번은 도전한다는 이것</strong>,\n",
       " <strong class=\"title elss\">삼성전자 상반기 ‘연봉킹’은 35억 김기남 부회장</strong>]"
      ]
     },
     "execution_count": 36,
     "metadata": {},
     "output_type": "execute_result"
    }
   ],
   "source": [
    "soup.select('strong.elss.title')    # stopng태그 중 class가 title elss인 구문 가져오기"
   ]
  },
  {
   "cell_type": "markdown",
   "id": "f25155b9",
   "metadata": {},
   "source": [
    "위에 해본 실습들처럼 태그와 class의 공통된 특징을 이용한다면 가져오고 싶은 정보를 크롤링 해올 수 있다"
   ]
  }
 ],
 "metadata": {
  "kernelspec": {
   "display_name": "Python 3",
   "language": "python",
   "name": "python3"
  },
  "language_info": {
   "codemirror_mode": {
    "name": "ipython",
    "version": 3
   },
   "file_extension": ".py",
   "mimetype": "text/x-python",
   "name": "python",
   "nbconvert_exporter": "python",
   "pygments_lexer": "ipython3",
   "version": "3.8.8"
  }
 },
 "nbformat": 4,
 "nbformat_minor": 5
}
